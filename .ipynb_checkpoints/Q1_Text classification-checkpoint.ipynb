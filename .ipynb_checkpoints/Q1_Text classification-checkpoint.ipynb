{
 "cells": [
  {
   "cell_type": "code",
   "execution_count": 10,
   "metadata": {},
   "outputs": [],
   "source": [
    "import glob\n",
    "import os\n",
    "from nltk.corpus import stopwords\n",
    "import string\n",
    "import math\n",
    "import numpy as np\n",
    "from nltk.tokenize import RegexpTokenizer\n",
    "from matplotlib import pyplot as plt\n",
    "from scipy.spatial import distance\n",
    "from nltk.stem import PorterStemmer\n",
    "import tkinter as tk\n",
    "import random\n",
    "\n",
    "porter_stemmer=PorterStemmer()\n",
    "stop_words = set(stopwords.words('english'))"
   ]
  },
  {
   "cell_type": "markdown",
   "metadata": {},
   "source": [
    "## function to get files from directory"
   ]
  },
  {
   "cell_type": "code",
   "execution_count": 11,
   "metadata": {},
   "outputs": [],
   "source": [
    "def getdatafromfile():\n",
    "    classes=['athletics','cricket','football','rugby','tennis']\n",
    "    list=[glob.glob('bbcsport/{}/*'.format(classes[i])) for i in range(len(classes))]\n",
    "    return list,classes"
   ]
  },
  {
   "cell_type": "markdown",
   "metadata": {},
   "source": [
    "## KNN Classification Class"
   ]
  },
  {
   "cell_type": "code",
   "execution_count": 19,
   "metadata": {},
   "outputs": [],
   "source": [
    "class TextClassificationKNN:\n",
    "    def __init__(self,list,classes):\n",
    "        self.list=list\n",
    "        self.classes=classes\n",
    "        self.totalfiles=[len(i) for i in list]\n",
    "        print(\"Total files in each class: \",self.totalfiles)\n",
    "        \n",
    "        \n",
    "    def preprocessData(self):\n",
    "\n",
    "        self.alldocDict={}\n",
    "        for mainClass in range(len(self.list)): \n",
    "            for subFiles in range(len(self.list[mainClass])):\n",
    "                f=open(self.list[mainClass][subFiles],'r')\n",
    "                tokenizer = RegexpTokenizer(r'\\w+')\n",
    "                # convert to lower case\n",
    "                fullfile = tokenizer.tokenize(f.read().lower())\n",
    "                # stem document\n",
    "                stemmedDocs=[porter_stemmer.stem(word) for word in fullfile]\n",
    "                #trimming the file name and removing redundant '.txt'\n",
    "                p=os.path.basename(self.list[mainClass][subFiles])\n",
    "                p=p.split('.')[0]\n",
    "                # remove all tokens that are not alphabetic and stop words\n",
    "                tokens_without_sw = [word for word in stemmedDocs if word not in stop_words and word.isalpha()]\n",
    "                self.alldocDict[mainClass,int(p)]=tokens_without_sw\n",
    "\n",
    "        return self.alldocDict\n",
    "    \n",
    "    \n",
    "    def SplitTrainTestDocs(self,testRatio):      \n",
    "        \n",
    "        self.train_count=[len(i)-(int(len(i)*(testRatio))) for i in self.list]        \n",
    "        self.Train_documents=[]\n",
    "        self.Test_documents=[]\n",
    "        self.Train_set=[]        \n",
    "        Train_Init=[]\n",
    "        for classId in range(len(self.classes)):\n",
    "            Train_Init.append(random.sample(range(1, self.totalfiles[classId]), self.train_count[classId]))\n",
    "\n",
    "        for classId in range(len(self.classes)):\n",
    "            for i in Train_Init[classId]:\n",
    "                self.Train_documents.append((classId,i))\n",
    "                self.Train_set.append(self.alldocDict[(classId,i)])\n",
    "\n",
    "        for class_id in self.alldocDict.keys():\n",
    "            if(class_id not in self.Train_documents):\n",
    "                self.Test_documents.append(class_id)\n",
    "\n",
    "        print(\"Number of test documents: \",len(self.Test_documents))\n",
    "        print(\"Number of train documents: \",len(self.Train_documents))\n",
    "        \n",
    "        # index of words in training set(train_set has all the words that are in training set)\n",
    "        self.word_index={}\n",
    "        for doc in range(len(self.Train_set)):\n",
    "            for word in self.Train_set[doc]:\n",
    "                if word not in self.word_index:\n",
    "                    self.word_index[word]={}\n",
    "                    \n",
    "        print(len(self.word_index))\n",
    "\n",
    "        return self.Train_documents, self.Test_documents, self.word_index\n",
    "    \n",
    "    \n",
    "    def tfidfCalculation(self,term_index):\n",
    "        \n",
    "        f = open(\"TFIDFdict_allDocs.txt\",\"w\")\n",
    "        idf={}\n",
    "        for word in term_index.keys():\n",
    "            df=0\n",
    "            for doc in self.alldocDict.keys():\n",
    "                if word in self.alldocDict[doc]:\n",
    "                    df+=1\n",
    "            idf[word]=math.log(len(self.Train_documents)/(df))\n",
    "\n",
    "        for word in term_index.keys():\n",
    "            for doc in self.alldocDict.keys():      \n",
    "                if word in self.alldocDict[doc]:\n",
    "        #             print('word found in ',doc)   \n",
    "                    term_index[word][doc]=((self.alldocDict[doc].count(word))*idf[word])  #calculate tfidf\n",
    "                else:\n",
    "                    term_index[word][doc]=0\n",
    "        f.write(str(term_index))\n",
    "        f.close()\n",
    "        \n",
    "        return term_index\n",
    "    \n",
    "    def formVectors(self,tfidf_dict):\n",
    "\n",
    "        #form train and test vectors\n",
    "        self.trainDoc_vect={}\n",
    "        self.testDoc_vect={}\n",
    "\n",
    "        f1 = open(\"TrainDocs_vector.txt\",\"w\")\n",
    "        f2 = open(\"TestDocs_allDocs.txt\",\"w\")\n",
    "\n",
    "        for docid in self.Train_documents:\n",
    "            self.trainDoc_vect[docid]=[]\n",
    "            for word in tfidf_dict.keys():\n",
    "                self.trainDoc_vect[docid].append(tfidf_dict[word][docid])\n",
    "\n",
    "        for docid in self.Test_documents:\n",
    "            self.testDoc_vect[docid]=[]\n",
    "            for word in tfidf_dict.keys():\n",
    "                self.testDoc_vect[docid].append(tfidf_dict[word][docid])\n",
    "\n",
    "        f1.write(str(self.trainDoc_vect))\n",
    "        f1.close()\n",
    "        f2.write(str(self.testDoc_vect))\n",
    "        f2.close()\n",
    "\n",
    "        return self.trainDoc_vect, self.testDoc_vect\n",
    "    \n",
    "    \n",
    "    def calculateSimilarityAndKNN(self):\n",
    "        self.testsimilarity={}\n",
    "        for testid in self.testDoc_vect:\n",
    "            self.testsimilarity[testid]={}\n",
    "            for trainid in self.trainDoc_vect:\n",
    "                self.testsimilarity[testid][trainid]=(distance.cosine(self.testDoc_vect[testid], self.trainDoc_vect[trainid]))\n",
    "        self.correct=0\n",
    "        self.no=0\n",
    "        self.y=[]\n",
    "        self.yp=[]\n",
    "        for i in self.testsimilarity:\n",
    "            n1,n2,n3=sorted(self.testsimilarity[i], key=self.testsimilarity[i].get)[0:3]\n",
    "            newList=[n1[0],n2[0],n3[0]]\n",
    "            frequentNN=max(set(newList), key = newList.count)\n",
    "            \n",
    "            self.y.append(i[0])\n",
    "            self.yp.append(frequentNN)\n",
    "        \n",
    "            if(i[0]==frequentNN):\n",
    "                self.correct+=1\n",
    "            else:\n",
    "                self.no+=1\n",
    "                \n",
    "    def visualize(self):\n",
    "        plt.plot(range(len(self.y)), self.y, label='Actual Label')\n",
    "        plt.plot(range(len(self.y)), self.yp, label='Predicted Label')\n",
    "        plt.legend()\n",
    "        plt.show()\n",
    "        plt.savefig('ClassificationResultComparison.png')\n",
    "    \n",
    "    \n",
    "    def getAccuracy(self):\n",
    "        return (self.correct/(self.no+self.correct))*100\n",
    "        \n"
   ]
  },
  {
   "cell_type": "markdown",
   "metadata": {},
   "source": [
    "## get data from files"
   ]
  },
  {
   "cell_type": "code",
   "execution_count": 13,
   "metadata": {},
   "outputs": [],
   "source": [
    "list,classes=getdatafromfile()"
   ]
  },
  {
   "cell_type": "markdown",
   "metadata": {},
   "source": [
    "## Initialize class and split data into train and test, in ratio taken through gui, after preprocessing "
   ]
  },
  {
   "cell_type": "code",
   "execution_count": 14,
   "metadata": {},
   "outputs": [
    {
     "name": "stdout",
     "output_type": "stream",
     "text": [
      "0.3\n",
      "Total files in each class:  [101, 124, 265, 147, 100]\n",
      "Number of test documents:  220\n",
      "Number of train documents:  517\n",
      "8014\n"
     ]
    }
   ],
   "source": [
    "# gui for taking train and test ratio input\n",
    "\n",
    "tr=0\n",
    "def get_tr():\n",
    "    root=tk.Tk()\n",
    "    root.geometry(\"400x180\")\n",
    "    root.title('TrainTestRatio')\n",
    "    def clicked():\n",
    "        myLabel2 = tk.Label(root, text=\"The Test ratio is   \"+e.get())\n",
    "        global tr\n",
    "        tr=float(e.get())\n",
    "        trn=str(1-tr)\n",
    "        myLabel2.grid()\n",
    "        myLabel3 = tk.Label(root, text=\"The Train ratio is  \"+trn).grid()\n",
    "        myLabel4 = tk.Label(root, text=\"Please wait!\").grid()\n",
    "        root.after(1000, lambda: root.destroy()) # Destroy the widget after 3 seconds\n",
    "              \n",
    "    tk.Label(root, text=\"Enter The Test Ratio : \",fg=\"white\", bg=\"powder blue\", font=(\"Roboto\",12), relief=\"groove\").grid(row=0,padx=5)\n",
    "\n",
    "    e = tk.Entry(root, font=(\"Ubuntu\",11))\n",
    "    e.grid(row=0,column=1,padx=5)\n",
    "    e.insert(0,'0.3')\n",
    "    \n",
    "    tk.Label(root, text=\"Enter The Train Ratio : \",fg=\"white\", bg=\"powder blue\", font=(\"Roboto\",12), relief=\"groove\").grid(row=1,padx=5,pady=5)\n",
    "\n",
    "    e1 = tk.Entry(root, font=(\"Ubuntu\",11))\n",
    "    e1.grid(row=1,column=1,padx=5,pady=5)\n",
    "    e1.insert(0,'0.7')\n",
    "    \n",
    "    myBtn=tk.Button(root, text=\"Save and submit\", command=clicked)\n",
    "    myBtn.grid(row=2,column=1,pady=5)\n",
    "\n",
    "    tk.mainloop()\n",
    "\n",
    "\n",
    "get_tr() #getting the test ratio\n",
    "print(tr)\n",
    "clf=TextClassificationKNN(list,classes)\n",
    "alldocDict=clf.preprocessData()\n",
    "Train_documents, Test_documents, word_index=clf.SplitTrainTestDocs(tr)\n",
    "\n"
   ]
  },
  {
   "cell_type": "markdown",
   "metadata": {},
   "source": [
    "## form document vectors"
   ]
  },
  {
   "cell_type": "code",
   "execution_count": 15,
   "metadata": {},
   "outputs": [],
   "source": [
    "tfidf_dict=clf.tfidfCalculation(word_index)\n",
    "trainVector,testVector=clf.formVectors(tfidf_dict)"
   ]
  },
  {
   "cell_type": "markdown",
   "metadata": {},
   "source": [
    "## calculate similarity and find K-Nearest Neighbour"
   ]
  },
  {
   "cell_type": "code",
   "execution_count": 16,
   "metadata": {},
   "outputs": [],
   "source": [
    "clf.calculateSimilarityAndKNN()"
   ]
  },
  {
   "cell_type": "markdown",
   "metadata": {},
   "source": [
    "## get accuracy"
   ]
  },
  {
   "cell_type": "code",
   "execution_count": 17,
   "metadata": {},
   "outputs": [
    {
     "name": "stdout",
     "output_type": "stream",
     "text": [
      "99.0909090909091\n"
     ]
    }
   ],
   "source": [
    "#due to random sampling, accuracy will vary between 96-99%\n",
    "\n",
    "print(clf.getAccuracy())"
   ]
  },
  {
   "cell_type": "markdown",
   "metadata": {},
   "source": [
    "## visualization"
   ]
  },
  {
   "cell_type": "code",
   "execution_count": 20,
   "metadata": {},
   "outputs": [
    {
     "data": {
      "image/png": "[encoded data removed]",
      "text/plain": [
       "<Figure size 432x288 with 1 Axes>"
      ]
     },
     "metadata": {
      "needs_background": "light"
     },
     "output_type": "display_data"
    },
    {
     "data": {
      "text/plain": [
       "<Figure size 432x288 with 0 Axes>"
      ]
     },
     "metadata": {},
     "output_type": "display_data"
    }
   ],
   "source": [
    "clf.visualize()"
   ]
  },
  {
   "cell_type": "code",
   "execution_count": null,
   "metadata": {},
   "outputs": [],
   "source": []
  }
 ],
 "metadata": {
  "kernelspec": {
   "display_name": "Python 3",
   "language": "python",
   "name": "python3"
  },
  "language_info": {
   "codemirror_mode": {
    "name": "ipython",
    "version": 3
   },
   "file_extension": ".py",
   "mimetype": "text/x-python",
   "name": "python",
   "nbconvert_exporter": "python",
   "pygments_lexer": "ipython3",
   "version": "3.7.7"
  }
 },
 "nbformat": 4,
 "nbformat_minor": 4
}
